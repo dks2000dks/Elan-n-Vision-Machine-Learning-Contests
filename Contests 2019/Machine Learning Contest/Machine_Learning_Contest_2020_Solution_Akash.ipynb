{
  "nbformat": 4,
  "nbformat_minor": 0,
  "metadata": {
    "kernelspec": {
      "display_name": "Python 3",
      "language": "python",
      "name": "python3"
    },
    "language_info": {
      "codemirror_mode": {
        "name": "ipython",
        "version": 3
      },
      "file_extension": ".py",
      "mimetype": "text/x-python",
      "name": "python",
      "nbconvert_exporter": "python",
      "pygments_lexer": "ipython3",
      "version": "3.7.3"
    },
    "colab": {
      "name": "Machine Learning Contest-2020 Solution_Akash.ipynb",
      "provenance": [],
      "collapsed_sections": []
    }
  },
  "cells": [
    {
      "cell_type": "markdown",
      "metadata": {
        "id": "AwItnkLzeW_s",
        "colab_type": "text"
      },
      "source": [
        "# Solution of Machine Learning Contest-2020"
      ]
    },
    {
      "cell_type": "markdown",
      "metadata": {
        "id": "az-FJYWzeW_0",
        "colab_type": "text"
      },
      "source": [
        "*Solution for Machine Learning Contest-2020*\n",
        "\n",
        "*Source of Dataset : https://archive.ics.uci.edu/ml/machine-learning-databases/wine-quality/winequality-red.csv*"
      ]
    },
    {
      "cell_type": "markdown",
      "metadata": {
        "id": "IrDTQJzMeW_2",
        "colab_type": "text"
      },
      "source": [
        "## Importing Libraries"
      ]
    },
    {
      "cell_type": "code",
      "metadata": {
        "id": "4YEYWXLCeW_4",
        "colab_type": "code",
        "outputId": "1af3cd50-dfea-43f3-83c0-7138f291bf76",
        "colab": {
          "base_uri": "https://localhost:8080/",
          "height": 17
        }
      },
      "source": [
        "import numpy as np\n",
        "import pandas as pd\n",
        "from sklearn.model_selection import train_test_split\n",
        "from matplotlib import gridspec\n",
        "from matplotlib import pyplot as plt\n",
        "import time\n",
        "from IPython.core.display import display, HTML\n",
        "display(HTML(\"<style>.container { width:90% !important; }</style>\"))"
      ],
      "execution_count": 438,
      "outputs": [
        {
          "output_type": "display_data",
          "data": {
            "text/html": [
              "<style>.container { width:90% !important; }</style>"
            ],
            "text/plain": [
              "<IPython.core.display.HTML object>"
            ]
          },
          "metadata": {
            "tags": []
          }
        }
      ]
    },
    {
      "cell_type": "markdown",
      "metadata": {
        "id": "jqCi96LteXAB",
        "colab_type": "text"
      },
      "source": [
        "## Importing and Processing Data"
      ]
    },
    {
      "cell_type": "markdown",
      "metadata": {
        "id": "w6HpsceOeXAD",
        "colab_type": "text"
      },
      "source": [
        "### Importing and Viewing Data"
      ]
    },
    {
      "cell_type": "markdown",
      "metadata": {
        "id": "KXV8hevneXAF",
        "colab_type": "text"
      },
      "source": [
        "*Importing Data from csv file*"
      ]
    },
    {
      "cell_type": "code",
      "metadata": {
        "id": "mtL2909UeXAH",
        "colab_type": "code",
        "colab": {}
      },
      "source": [
        "df = pd.read_csv('LinearReg.csv',sep=';')"
      ],
      "execution_count": 0,
      "outputs": []
    },
    {
      "cell_type": "markdown",
      "metadata": {
        "id": "a68l1iSyeXAL",
        "colab_type": "text"
      },
      "source": [
        "*Printing Data and its Statistics*"
      ]
    },
    {
      "cell_type": "code",
      "metadata": {
        "scrolled": true,
        "id": "pGGA6CyaeXAM",
        "colab_type": "code",
        "outputId": "fcf6a744-8996-4129-92b9-1c8cc5728f97",
        "colab": {
          "base_uri": "https://localhost:8080/",
          "height": 467
        }
      },
      "source": [
        "df = df.reindex(np.random.permutation(df.index))\t\t\t#Shuffle\n",
        "print (df)\n",
        "print (df.describe())\t\t\t\t\t#Gives statitics of the data"
      ],
      "execution_count": 440,
      "outputs": [
        {
          "output_type": "stream",
          "text": [
            "      fixed acidity  volatile acidity  citric acid  ...  sulphates  alcohol  quality\n",
            "1228            5.1             0.420         0.00  ...       0.73     13.6        7\n",
            "286            12.0             0.450         0.55  ...       0.76     10.3        6\n",
            "130             8.0             0.745         0.56  ...       0.66      9.4        5\n",
            "1040            7.4             0.965         0.00  ...       0.67     10.2        5\n",
            "223             8.6             0.645         0.25  ...       0.60     10.0        6\n",
            "...             ...               ...          ...  ...        ...      ...      ...\n",
            "1596            6.3             0.510         0.13  ...       0.75     11.0        6\n",
            "768             7.1             0.590         0.02  ...       0.53      9.7        6\n",
            "258             7.7             0.410         0.76  ...       1.26      9.4        5\n",
            "942            10.1             0.430         0.40  ...       0.64     10.0        7\n",
            "1526            6.8             0.470         0.08  ...       0.65      9.6        6\n",
            "\n",
            "[1599 rows x 12 columns]\n",
            "       fixed acidity  volatile acidity  ...      alcohol      quality\n",
            "count    1599.000000       1599.000000  ...  1599.000000  1599.000000\n",
            "mean        8.319637          0.527821  ...    10.422983     5.636023\n",
            "std         1.741096          0.179060  ...     1.065668     0.807569\n",
            "min         4.600000          0.120000  ...     8.400000     3.000000\n",
            "25%         7.100000          0.390000  ...     9.500000     5.000000\n",
            "50%         7.900000          0.520000  ...    10.200000     6.000000\n",
            "75%         9.200000          0.640000  ...    11.100000     6.000000\n",
            "max        15.900000          1.580000  ...    14.900000     8.000000\n",
            "\n",
            "[8 rows x 12 columns]\n"
          ],
          "name": "stdout"
        }
      ]
    },
    {
      "cell_type": "code",
      "metadata": {
        "scrolled": true,
        "id": "PswCW0sHeXAR",
        "colab_type": "code",
        "outputId": "ff1bcc3f-5ff2-4fc1-9cf4-5d24a87cfa95",
        "colab": {
          "base_uri": "https://localhost:8080/",
          "height": 287
        }
      },
      "source": [
        "X = df.loc[:, df.columns != \"quality\"] # Defining Input and Output variables\n",
        "y = df[\"quality\"]\n",
        "print (X.columns.values)\n",
        "print (y)"
      ],
      "execution_count": 441,
      "outputs": [
        {
          "output_type": "stream",
          "text": [
            "['fixed acidity' 'volatile acidity' 'citric acid' 'residual sugar'\n",
            " 'chlorides' 'free sulfur dioxide' 'total sulfur dioxide' 'density' 'pH'\n",
            " 'sulphates' 'alcohol']\n",
            "1228    7\n",
            "286     6\n",
            "130     5\n",
            "1040    5\n",
            "223     6\n",
            "       ..\n",
            "1596    6\n",
            "768     6\n",
            "258     5\n",
            "942     7\n",
            "1526    6\n",
            "Name: quality, Length: 1599, dtype: int64\n"
          ],
          "name": "stdout"
        }
      ]
    },
    {
      "cell_type": "code",
      "metadata": {
        "id": "Lgr8PGmreXAV",
        "colab_type": "code",
        "colab": {}
      },
      "source": [
        "#converting pandas Dataframe to Numpy Arrays\n",
        "X = X.to_numpy()\n",
        "y = y.to_numpy()"
      ],
      "execution_count": 0,
      "outputs": []
    },
    {
      "cell_type": "markdown",
      "metadata": {
        "id": "G1EqlCFkeXAZ",
        "colab_type": "text"
      },
      "source": [
        "### Preprocessing Data"
      ]
    },
    {
      "cell_type": "markdown",
      "metadata": {
        "id": "BWkbpECHeXAa",
        "colab_type": "text"
      },
      "source": [
        "*Preprocessing Data*"
      ]
    },
    {
      "cell_type": "markdown",
      "metadata": {
        "id": "5ysSmmqhnWU5",
        "colab_type": "text"
      },
      "source": [
        "#### Feature Normalisation\n",
        "$$X=\\frac{X-\\mu}{\\sigma}$$\n",
        "First, for each feature dimension, compute the mean of the feature\n",
        "and subtract it from the dataset, storing the mean value in mu ($\\mu$). \n",
        "Next, compute the  standard deviation of each feature and divide\n",
        "each feature by it's standard deviation, storing the standard deviation \n",
        "in sigma ($\\sigma$)."
      ]
    },
    {
      "cell_type": "code",
      "metadata": {
        "id": "wsglkvr6eXAb",
        "colab_type": "code",
        "colab": {}
      },
      "source": [
        "def Feature_Normalize(X):\n",
        "    \"\"\"\n",
        "    Normalizes the features in X. returns a normalized version of X.\n",
        "    \"\"\"\n",
        "    mu = np.mean(X, axis = 0)       #computing mean\n",
        "    sigma = np.std(X, axis = 0)\n",
        "    X_norm = (X - mu) / sigma       #Feature Normalisation\n",
        "    return X_norm, mu, sigma"
      ],
      "execution_count": 0,
      "outputs": []
    },
    {
      "cell_type": "markdown",
      "metadata": {
        "id": "oEPBSPv4eXAf",
        "colab_type": "text"
      },
      "source": [
        "### Splitting the Data for Training and Testing"
      ]
    },
    {
      "cell_type": "markdown",
      "metadata": {
        "id": "UHw-fn_ReXAg",
        "colab_type": "text"
      },
      "source": [
        "*Splitting Data to Train and Test sets to train and evaluate the Model*"
      ]
    },
    {
      "cell_type": "code",
      "metadata": {
        "id": "EVX8sgHDeXAh",
        "colab_type": "code",
        "colab": {}
      },
      "source": [
        "X_train, X_test, y_train, y_test = train_test_split(X, y, test_size=0.2, stratify=y)#Train-Test Split"
      ],
      "execution_count": 0,
      "outputs": []
    },
    {
      "cell_type": "code",
      "metadata": {
        "id": "UZlLQHNseXAl",
        "colab_type": "code",
        "colab": {}
      },
      "source": [
        "X_train= Feature_Normalize(X_train)[0]\n",
        "X_test = Feature_Normalize(X_test)[0]\n",
        "X_train = np.c_[np.ones(X_train.shape[0]), X_train] #Add a column of ones\n",
        "X_test = np.c_[np.ones(X_test.shape[0]), X_test] "
      ],
      "execution_count": 0,
      "outputs": []
    },
    {
      "cell_type": "code",
      "metadata": {
        "scrolled": true,
        "id": "IpFvHhUdeXAo",
        "colab_type": "code",
        "outputId": "c87c5eff-e842-4d19-9f41-b80c508af0be",
        "colab": {
          "base_uri": "https://localhost:8080/",
          "height": 89
        }
      },
      "source": [
        "print (\"Shape of Training Set is\",X_train.shape)\n",
        "print (\"Shape of Test Set is\",X_test.shape)\n",
        "print (\"Shape of Training Set is\",y_train.shape)\n",
        "print (\"Shape of Test Set is\",y_test.shape)"
      ],
      "execution_count": 446,
      "outputs": [
        {
          "output_type": "stream",
          "text": [
            "Shape of Training Set is (1279, 12)\n",
            "Shape of Test Set is (320, 12)\n",
            "Shape of Training Set is (1279,)\n",
            "Shape of Test Set is (320,)\n"
          ],
          "name": "stdout"
        }
      ]
    },
    {
      "cell_type": "markdown",
      "metadata": {
        "id": "i3xMC5Iqir9d",
        "colab_type": "text"
      },
      "source": [
        "## Objective, Cost function and Gradient Descent "
      ]
    },
    {
      "cell_type": "markdown",
      "metadata": {
        "id": "cuH3dR64iKAh",
        "colab_type": "text"
      },
      "source": [
        "The objective of linear regression is to minimize the cost function\n",
        "\n",
        "$$ J(\\theta) = \\frac{1}{2m} \\sum_{i=1}^m \\left( h_{\\theta}(x^{(i)}) - y^{(i)}\\right)^2 +\\frac{\\lambda}{2m}\\sum_{j=1}^n {\\theta_j}^2$$\n",
        "where the hypothesis $h_\\theta(x)$ is given by the linear model$$ h_\\theta(x) = \\theta^Tx = \\sum_{i=0}^n \\theta_ix_i$$\n",
        "\n",
        "Recall that the parameters of your model are the $\\theta_j$ values. These are the values you will adjust to minimize cost $J(\\theta)$. One way to do this is to use the batch gradient descent algorithm. In batch gradient descent, each iteration performs the update\n",
        "\n",
        "$$ \\theta_j = \\theta_j - \\alpha \\frac{1}{m} \\frac{\\partial J(\\theta)}{\\partial \\theta_j} \\quad \\forall j>=1  \\qquad \\text{simultaneously update } \\theta_j \\text{ for all } j$$\n",
        "where, $$\\frac{\\partial J(\\theta)}{\\partial \\theta_j} = \\sum_{i=1}^m \\left( h_\\theta(x^{(i)}) - y^{(i)}\\right)x_j^{(i)} + \\frac{\\lambda}{m}\\theta_j$$\n",
        "With each step of gradient descent, your parameters $\\theta_j$ come closer to the optimal values that will achieve the lowest cost J($\\theta$).\n",
        "\n",
        "**Implementation Note:** We store each example as a row in the the $X$ matrix in Python `numpy`. To take into account the intercept term ($\\theta_0$), we add an additional first column to $X$ and set it to all ones. This allows us to treat $\\theta_0$ as simply another 'feature'.\n",
        "\n",
        "We are ignoring the Regularisation term in this approach."
      ]
    },
    {
      "cell_type": "markdown",
      "metadata": {
        "id": "fa39onkweXAs",
        "colab_type": "text"
      },
      "source": [
        "## Training and Validating the Model"
      ]
    },
    {
      "cell_type": "markdown",
      "metadata": {
        "id": "uslycZpaeXAt",
        "colab_type": "text"
      },
      "source": [
        "*Compute Cost function*"
      ]
    },
    {
      "cell_type": "code",
      "metadata": {
        "id": "0esbP8k-eXAu",
        "colab_type": "code",
        "colab": {}
      },
      "source": [
        "def CostFunction(X, y, theta):\n",
        "    \"\"\"\n",
        "    Compute cost for linear regression with multiple variables.\n",
        "    Computes the cost of using theta as the parameter for linear regression to fit the data points in X and y.\n",
        "    \"\"\"\n",
        "    m = y.shape[0] # number of training examples\n",
        "    J = 0\n",
        "    h = X.dot(theta.T)\n",
        "    J = (1/(2 * m)) * np.sum(np.square(np.dot(X, theta) - y))#definition of cost function\n",
        "    return J"
      ],
      "execution_count": 0,
      "outputs": []
    },
    {
      "cell_type": "markdown",
      "metadata": {
        "id": "Po0zM4LgeXAy",
        "colab_type": "text"
      },
      "source": [
        "*Gradient Descent*"
      ]
    },
    {
      "cell_type": "code",
      "metadata": {
        "id": "g6_94OMeeXAz",
        "colab_type": "code",
        "colab": {}
      },
      "source": [
        "def GradientDescent(X, y, theta, lr):\n",
        "    \"\"\"\n",
        "    Performs gradient descent to learn theta.\n",
        "    Updates theta by taking num_iters gradient steps with learning rate alpha.\n",
        "    \"\"\"\n",
        "    # Initialize some useful values\n",
        "    m = y.shape[0] # number of training examples\n",
        "    theta = theta - (lr / m) * (np.dot(X, theta) - y).dot(X)#Gradient descent algorithm\n",
        "    return theta"
      ],
      "execution_count": 0,
      "outputs": []
    },
    {
      "cell_type": "markdown",
      "metadata": {
        "id": "9HdLdoKceXA2",
        "colab_type": "text"
      },
      "source": [
        "*Function to Calculate Validation Loss*"
      ]
    },
    {
      "cell_type": "code",
      "metadata": {
        "id": "DWdWT5QVeXA3",
        "colab_type": "code",
        "colab": {}
      },
      "source": [
        "def Validation_Loss_Function(y_pred,y):\n",
        "    \"\"\"\n",
        "    Function to calculate Validation Loss\n",
        "    \"\"\"\n",
        "    m = y.shape[0]\n",
        "    loss = np.square(y_pred-y)/(m)\n",
        "    loss = np.sum(loss)\n",
        "    loss = np.sqrt(loss)\n",
        "    \n",
        "    return loss   \n",
        "    "
      ],
      "execution_count": 0,
      "outputs": []
    },
    {
      "cell_type": "markdown",
      "metadata": {
        "id": "QtCSvFNteXA6",
        "colab_type": "text"
      },
      "source": [
        "### Training the Model"
      ]
    },
    {
      "cell_type": "code",
      "metadata": {
        "id": "0SxgLi9KeXA7",
        "colab_type": "code",
        "colab": {}
      },
      "source": [
        "def Training_and_Validation(X_train,y_train,X_test,y_test,lr=0.3,epochs=10):\n",
        "    \"\"\"\n",
        "    Training Linear Regression Model\n",
        "    \"\"\"\n",
        "    s = X_train.shape[1]\n",
        "    theta = np.zeros(s)\n",
        "    Training_Loss = []\n",
        "    Validation_Loss = []\n",
        "    for i in range(epochs):\n",
        "        theta = GradientDescent(X_train, y_train, theta, lr)\n",
        "        Training_Loss.append(CostFunction(X_train,y_train,theta))\n",
        "        y_pred = np.dot(X_test, theta)\n",
        "        Validation_Loss.append(Validation_Loss_Function(y_pred,y_test))\n",
        "        if (i%50 == 0):\n",
        "            print (\"Epoch : {}  |  Training Loss : {}  |  Validation Loss : {}\".format(i, round(Training_Loss[i],6), round(Validation_Loss[i],5)))\n",
        "    plt.plot(Training_Loss,'r')\n",
        "    plt.plot(Validation_Loss,'y')\n",
        "    plt.show()\n",
        "      \n",
        "    print (\"Final Training Loss is equal to \",Training_Loss[-1])\n",
        "    print (\"Final Validation Loss is equal to \",Validation_Loss[-1])\n",
        "    \n",
        "    return theta  \n",
        "    "
      ],
      "execution_count": 0,
      "outputs": []
    },
    {
      "cell_type": "code",
      "metadata": {
        "id": "P75LdxRVeXA-",
        "colab_type": "code",
        "outputId": "9d21be64-c112-451b-bba6-1c826d99422e",
        "colab": {
          "base_uri": "https://localhost:8080/",
          "height": 373
        }
      },
      "source": [
        "start= time.time()\n",
        "theta = Training_and_Validation(X_train,y_train,X_test,y_test)\n",
        "end= time.time()\n",
        "print ('Total time taken for training is:',end-start,'sec')\n",
        "print(theta)"
      ],
      "execution_count": 454,
      "outputs": [
        {
          "output_type": "stream",
          "text": [
            "Epoch : 0  |  Training Loss : 8.023372  |  Validation Loss : 4.00261\n"
          ],
          "name": "stdout"
        },
        {
          "output_type": "display_data",
          "data": {
            "image/png": "[encoded data removed]",
            "text/plain": [
              "<Figure size 432x288 with 1 Axes>"
            ]
          },
          "metadata": {
            "tags": []
          }
        },
        {
          "output_type": "stream",
          "text": [
            "Final Training Loss is equal to  0.21915549604565593\n",
            "Final Validation Loss is equal to  0.6841645056031475\n",
            "Total time taken for training is: 0.23940110206604004 sec\n",
            "[ 5.47797916  0.0542222  -0.18687125  0.02988732  0.02564634 -0.08655637\n",
            "  0.0214673  -0.09390555 -0.07598728 -0.01446124  0.15006749  0.25710589]\n"
          ],
          "name": "stdout"
        }
      ]
    },
    {
      "cell_type": "code",
      "metadata": {
        "id": "eLMzQiNYw-40",
        "colab_type": "code",
        "colab": {}
      },
      "source": [
        "def Normalised_eqns(X,y):\n",
        "    # Computes the closed-form solution to linear regression using the normal equations.\n",
        "    theta = np.zeros(X_train.shape[1])\n",
        "    theta = np.dot(np.dot(np.linalg.inv(np.dot(X.T,X)),X.T),y)\n",
        "    return theta\n",
        "theta_normal= Normalised_eqns(X_train,y_train)\n",
        "print(\"Theta computed by Normal Eqns is :\" , theta_normal)"
      ],
      "execution_count": 0,
      "outputs": []
    },
    {
      "cell_type": "code",
      "metadata": {
        "id": "jy1Iad_xx_14",
        "colab_type": "code",
        "colab": {}
      },
      "source": [
        "X_array = [1,7.4,0.7,0,1.9,0.076,11,34,0.9978,3.51,0.56,9.4]\n",
        "X_array = np.asarray(X_array)\n",
        "X_array[1:11] = (X_array[1:11] - np.mean(X_array[1:11])) /(np.std(X_array[1:11]))\n",
        "quality_normalised_eqns = np.dot(X_array,Normalised_eqns(X_train,y_train) ) \n",
        "quality_by_gradient_descent=np.dot(X_array,theta)\n",
        "print('quality by normalised_eqns :', quality_normalised_eqns)\n",
        "print('quality by Gradient descent:', quality_by_gradient_descent)\n",
        "closeness=np.allclose(theta_normal,theta,rtol=1e-2, atol=1e-2)\n",
        "print(closeness)"
      ],
      "execution_count": 0,
      "outputs": []
    }
  ]
}