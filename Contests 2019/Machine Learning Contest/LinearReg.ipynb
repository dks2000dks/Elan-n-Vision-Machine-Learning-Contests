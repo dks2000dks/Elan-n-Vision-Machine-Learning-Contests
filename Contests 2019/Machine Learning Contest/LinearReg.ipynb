{
  "nbformat": 4,
  "nbformat_minor": 0,
  "metadata": {
    "kernelspec": {
      "display_name": "Python 3",
      "language": "python",
      "name": "python3"
    },
    "language_info": {
      "codemirror_mode": {
        "name": "ipython",
        "version": 3
      },
      "file_extension": ".py",
      "mimetype": "text/x-python",
      "name": "python",
      "nbconvert_exporter": "python",
      "pygments_lexer": "ipython3",
      "version": "3.7.3"
    },
    "colab": {
      "name": "LinearReg.ipynb",
      "provenance": []
    }
  },
  "cells": [
    {
      "cell_type": "markdown",
      "metadata": {
        "id": "qdFaw5h-cU7M",
        "colab_type": "text"
      },
      "source": [
        "## Importing Libraries"
      ]
    },
    {
      "cell_type": "code",
      "metadata": {
        "id": "ugv76kstcU7N",
        "colab_type": "code",
        "outputId": "4ba1ff55-75f0-45c8-8372-9ba853703062",
        "colab": {
          "base_uri": "https://localhost:8080/",
          "height": 17
        }
      },
      "source": [
        "import numpy as np\n",
        "import pandas as pd\n",
        "from sklearn.model_selection import train_test_split\n",
        "from matplotlib import gridspec\n",
        "from matplotlib import pyplot as plt"
      ],
      "execution_count": 0,
      "outputs": [
        {
          "output_type": "display_data",
          "data": {
            "text/html": [
              "<style>.container { width:90% !important; }</style>"
            ],
            "text/plain": [
              "<IPython.core.display.HTML object>"
            ]
          },
          "metadata": {
            "tags": []
          }
        }
      ]
    },
    {
      "cell_type": "markdown",
      "metadata": {
        "id": "3rJyBrkFcU7T",
        "colab_type": "text"
      },
      "source": [
        "## Importing and Processing Data"
      ]
    },
    {
      "cell_type": "markdown",
      "metadata": {
        "id": "B4gWKQI4cU7U",
        "colab_type": "text"
      },
      "source": [
        "### Importing and Viewing Data"
      ]
    },
    {
      "cell_type": "markdown",
      "metadata": {
        "id": "dayplSiAcU7W",
        "colab_type": "text"
      },
      "source": [
        "*Importing Data from csv file*"
      ]
    },
    {
      "cell_type": "code",
      "metadata": {
        "id": "Ck1WgBcEcU7X",
        "colab_type": "code",
        "colab": {}
      },
      "source": [
        "df=     #Read the file from the dataset"
      ],
      "execution_count": 0,
      "outputs": []
    },
    {
      "cell_type": "markdown",
      "metadata": {
        "id": "wUgrchSIcU7c",
        "colab_type": "text"
      },
      "source": [
        "*Printing Data and its Statistics*"
      ]
    },
    {
      "cell_type": "code",
      "metadata": {
        "scrolled": true,
        "id": "fh6WBMYXcU7d",
        "colab_type": "code",
        "colab": {}
      },
      "source": [
        "df = df.reindex(np.random.permutation(df.index))\t\t\t#Shuffle\n",
        "print (df)\n",
        "print (df.describe())\t\t\t\t\t#Gives statitics of the data"
      ],
      "execution_count": 0,
      "outputs": []
    },
    {
      "cell_type": "code",
      "metadata": {
        "scrolled": true,
        "id": "U0l0QpofcU7j",
        "colab_type": "code",
        "colab": {}
      },
      "source": [
        "X = df.loc[:, df.columns != \"quality\"]\n",
        "y = df[\"quality\"]\n",
        "print (X.columns.values)\n",
        "print (y)"
      ],
      "execution_count": 0,
      "outputs": []
    },
    {
      "cell_type": "code",
      "metadata": {
        "id": "rgfLaVmrcU7o",
        "colab_type": "code",
        "colab": {}
      },
      "source": [
        "#converting pandas Dataframe to Numpy Arrays\n",
        "X = X.to_numpy()\n",
        "y = y.to_numpy()"
      ],
      "execution_count": 0,
      "outputs": []
    },
    {
      "cell_type": "markdown",
      "metadata": {
        "id": "QGeRUaX2cU7s",
        "colab_type": "text"
      },
      "source": [
        "### Preprocessing Data"
      ]
    },
    {
      "cell_type": "markdown",
      "metadata": {
        "id": "ch20d_yfcU7u",
        "colab_type": "text"
      },
      "source": [
        "*Preprocessing Data*"
      ]
    },
    {
      "cell_type": "code",
      "metadata": {
        "id": "rU44o6CCcU7v",
        "colab_type": "code",
        "colab": {}
      },
      "source": [
        "def Feature_Normalize(X):\n",
        "    \"\"\"\n",
        "    Normalizes the features in X. returns a normalized version of X.\n",
        "    \"\"\"\n",
        "    #Write your code here\n",
        "    return X_norm, mu, sigma"
      ],
      "execution_count": 0,
      "outputs": []
    },
    {
      "cell_type": "markdown",
      "metadata": {
        "id": "i76sqzxfcU7z",
        "colab_type": "text"
      },
      "source": [
        "### Splitting the Data for Training and Testing"
      ]
    },
    {
      "cell_type": "markdown",
      "metadata": {
        "id": "a9X97wO6cU70",
        "colab_type": "text"
      },
      "source": [
        "*Splitting Data to Train and Test sets to train and evaluate the Model*"
      ]
    },
    {
      "cell_type": "code",
      "metadata": {
        "id": "zJEnWnM2cU72",
        "colab_type": "code",
        "colab": {}
      },
      "source": [
        "X_train, X_test, y_train, y_test = train_test_split(X, y, test_size=0.2, stratify=y)"
      ],
      "execution_count": 0,
      "outputs": []
    },
    {
      "cell_type": "code",
      "metadata": {
        "id": "yO8hiqsncU76",
        "colab_type": "code",
        "colab": {}
      },
      "source": [
        "X_train = Feature_Normalize(X_train)[0]\n",
        "X_test = Feature_Normalize(X_test)[0]\n",
        "X_train = np.c_[np.ones(X_train.shape[0]), X_train] \n",
        "X_test = np.c_[np.ones(X_test.shape[0]), X_test] "
      ],
      "execution_count": 0,
      "outputs": []
    },
    {
      "cell_type": "code",
      "metadata": {
        "scrolled": true,
        "id": "YHnKi9D5cU7_",
        "colab_type": "code",
        "colab": {}
      },
      "source": [
        "print (\"Shape of Training Set is\",X_train.shape)\n",
        "print (\"Shape of Test Set is\",X_test.shape)\n",
        "\n",
        "print (\"Shape of Training Set is\",y_train.shape)\n",
        "print (\"Shape of Test Set is\",y_test.shape)"
      ],
      "execution_count": 0,
      "outputs": []
    },
    {
      "cell_type": "markdown",
      "metadata": {
        "id": "8jTHYd-xcU8D",
        "colab_type": "text"
      },
      "source": [
        "## Training and Validating the Model"
      ]
    },
    {
      "cell_type": "markdown",
      "metadata": {
        "id": "GADLulSGkIB4",
        "colab_type": "text"
      },
      "source": [
        "The objective of linear regression is to minimize the cost function\n",
        "\n",
        "$$ J(\\theta) = \\frac{1}{2m} \\sum_{i=1}^m \\left( h_{\\theta}(x^{(i)}) - y^{(i)}\\right)^2 +\\frac{\\lambda}{2m}\\sum_{j=1}^n {\\theta_j}^2$$\n",
        "where the hypothesis $h_\\theta(x)$ is given by the linear model$$ h_\\theta(x) = \\theta^Tx = \\sum_{i=0}^n \\theta_ix_i$$\n",
        "\n",
        "Recall that the parameters of your model are the $\\theta_j$ values. These are the values you will adjust to minimize cost $J(\\theta)$. One way to do this is to use the batch gradient descent algorithm. In batch gradient descent, each iteration performs the update\n",
        "\n",
        "$$ \\theta_j = \\theta_j - \\alpha \\frac{1}{m} \\frac{\\partial J(\\theta)}{\\partial \\theta_j} \\quad \\forall j\\geq1  \\qquad \\text{simultaneously update } \\theta_j \\text{ for all } j$$\n",
        "where, $$\\frac{\\partial J(\\theta)}{\\partial \\theta_j} = \\sum_{i=1}^m \\left( h_\\theta(x^{(i)}) - y^{(i)}\\right)x_j^{(i)} + \\frac{\\lambda}{m}\\theta_j$$\n",
        "With each step of gradient descent, your parameters $\\theta_j$ come closer to the optimal values that will achieve the lowest cost J($\\theta$).\n",
        "\n",
        "$\\textbf{Note}$: Its your wish to implement the regularisation or you can ignore."
      ]
    },
    {
      "cell_type": "markdown",
      "metadata": {
        "id": "L3KEVyzacU8F",
        "colab_type": "text"
      },
      "source": [
        "*Compute Cost function*"
      ]
    },
    {
      "cell_type": "code",
      "metadata": {
        "id": "huNpQah8cU8G",
        "colab_type": "code",
        "colab": {}
      },
      "source": [
        "def Cost_Function(X, y, theta):\n",
        "    \"\"\"\n",
        "    Compute cost for linear regression with multiple variables.\n",
        "    Computes the cost of using theta as the parameter for linear regression to fit the data points in X and y.\n",
        "    \"\"\"\n",
        "    #Write your code here\n",
        "    \n",
        "    return J"
      ],
      "execution_count": 0,
      "outputs": []
    },
    {
      "cell_type": "markdown",
      "metadata": {
        "id": "b1uVNxXtcU8K",
        "colab_type": "text"
      },
      "source": [
        "*Gradient Descent*"
      ]
    },
    {
      "cell_type": "code",
      "metadata": {
        "id": "iUw1uKTfcU8L",
        "colab_type": "code",
        "colab": {}
      },
      "source": [
        "def GradientDescent(X, y, theta, lr):\n",
        "    \"\"\"\n",
        "    Performs gradient descent to learn theta.\n",
        "    Updates theta by taking num_iters gradient steps with learning rate alpha.\n",
        "    \"\"\"\n",
        "    #Write your code here\n",
        "    return theta"
      ],
      "execution_count": 0,
      "outputs": []
    },
    {
      "cell_type": "markdown",
      "metadata": {
        "id": "Q2BqTbBbcU8T",
        "colab_type": "text"
      },
      "source": [
        "*Function to Calculate Validation Loss*"
      ]
    },
    {
      "cell_type": "code",
      "metadata": {
        "id": "tPzctcLacU8U",
        "colab_type": "code",
        "colab": {}
      },
      "source": [
        "def Validation_Loss_Function(y_pred,y):\n",
        "    \"\"\"\n",
        "    Function to calculate Validation Loss\n",
        "    \"\"\"\n",
        "    m = y.shape[0]\n",
        "    loss = np.square(y_pred-y)/(m)\n",
        "    loss = np.sum(loss)\n",
        "    loss = np.sqrt(loss)\n",
        "    return loss   \n",
        "    "
      ],
      "execution_count": 0,
      "outputs": []
    },
    {
      "cell_type": "markdown",
      "metadata": {
        "id": "_guzmjWocU8Y",
        "colab_type": "text"
      },
      "source": [
        "### Training the Model"
      ]
    },
    {
      "cell_type": "code",
      "metadata": {
        "id": "0lII4nqfcU8Z",
        "colab_type": "code",
        "colab": {}
      },
      "source": [
        "def Training_and_Validation(X_train,y_train,X_test,y_test,lr=,epochs=):\n",
        "    \"\"\"\n",
        "    Training Linear Regression Model\n",
        "    \"\"\"\n",
        "    #Rearrange all the following lines to get a perfect plot\n",
        "    s = X_train.shape[1]\n",
        "    theta = np.zeros(s)\n",
        "    Training_Loss = []\n",
        "    Validation_Loss = []\n",
        "    for i in range(epochs):\n",
        "        y_pred = np.dot(X_test, theta)\n",
        "        Validation_Loss.append(Validation_Loss_Function(y_pred,y_test))\n",
        "        theta = GradientDescent(X_train, y_train, theta, lr)\n",
        "        Training_Loss.append(CostFunction(X_train,y_train,theta))\n",
        "    plt.plot(Training_Loss,'r')\n",
        "    plt.plot(Validation_Loss,'y')\n",
        "    plt.show()\n",
        "    \n",
        "    print (\"Final Training Loss is equal to \",Training_Loss[-1])\n",
        "    print (\"Final Validation Loss is equal to \",Validation_Loss[-1])\n",
        "    \n",
        "    return theta  "
      ],
      "execution_count": 0,
      "outputs": []
    },
    {
      "cell_type": "code",
      "metadata": {
        "id": "2PNbGfg1cU8d",
        "colab_type": "code",
        "colab": {}
      },
      "source": [
        "theta = Training_and_Validation(X_train,y_train,X_test,y_test)\n",
        "print(theta)"
      ],
      "execution_count": 0,
      "outputs": []
    }
  ]
}