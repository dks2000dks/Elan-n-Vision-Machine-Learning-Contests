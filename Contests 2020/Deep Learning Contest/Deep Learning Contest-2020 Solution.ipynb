{
 "cells": [
  {
   "cell_type": "markdown",
   "metadata": {},
   "source": [
    "# Solution of Deep Learning Contest-2020"
   ]
  },
  {
   "cell_type": "markdown",
   "metadata": {},
   "source": [
    "*Solution for Deep Learning Contest-2020*\n",
    "\n",
    "https://www.kaggle.com/c/digit-recognizer/data\n",
    "(The huge dataset in the above link is modified and provided during contest)*"
   ]
  },
  {
   "cell_type": "markdown",
   "metadata": {},
   "source": [
    "## Importing Libraries"
   ]
  },
  {
   "cell_type": "code",
   "execution_count": 1,
   "metadata": {},
   "outputs": [
    {
     "name": "stderr",
     "output_type": "stream",
     "text": [
      "Using TensorFlow backend.\n"
     ]
    },
    {
     "data": {
      "text/html": [
       "<style>.container { width:100% !important; }</style>"
      ],
      "text/plain": [
       "<IPython.core.display.HTML object>"
      ]
     },
     "metadata": {},
     "output_type": "display_data"
    }
   ],
   "source": [
    "import numpy as np\n",
    "import pandas as pd\n",
    "import keras\n",
    "from keras.models import Sequential\n",
    "from keras.layers import Dense\n",
    "from sklearn.model_selection import train_test_split\n",
    "from sklearn.preprocessing import OneHotEncoder\n",
    "from sklearn import preprocessing\n",
    "from sklearn.metrics import accuracy_score\n",
    "import math\n",
    "import seaborn as sns\n",
    "from IPython import display\n",
    "from matplotlib import cm\n",
    "from matplotlib import gridspec\n",
    "from matplotlib import pyplot as plt\n",
    "import time\n",
    "\n",
    "from IPython.core.display import display, HTML\n",
    "display(HTML(\"<style>.container { width:100% !important; }</style>\"))"
   ]
  },
  {
   "cell_type": "markdown",
   "metadata": {},
   "source": [
    "## Importing and Processing Data"
   ]
  },
  {
   "cell_type": "markdown",
   "metadata": {},
   "source": [
    "### Importing and Viewing Data"
   ]
  },
  {
   "cell_type": "markdown",
   "metadata": {},
   "source": [
    "*Importing Data from csv file*"
   ]
  },
  {
   "cell_type": "code",
   "execution_count": 2,
   "metadata": {},
   "outputs": [],
   "source": [
    "df = pd.read_csv('Dataset.csv',sep=',')"
   ]
  },
  {
   "cell_type": "markdown",
   "metadata": {},
   "source": [
    "*Printing Data and its Statistics*"
   ]
  },
  {
   "cell_type": "code",
   "execution_count": 3,
   "metadata": {
    "scrolled": false
   },
   "outputs": [
    {
     "name": "stdout",
     "output_type": "stream",
     "text": [
      "      label  Column1  Column2  Column3  Column4  Column5  Column6  Column7  \\\n",
      "2427      7        0        0        0        0        0        0        0   \n",
      "9016      8        0        0        0        0        0        0        0   \n",
      "9438      6        0        0        0        0        0        0        0   \n",
      "7624      3        0        0        0        0        0        0        0   \n",
      "837       7        0        0        0        0        0        0        0   \n",
      "...     ...      ...      ...      ...      ...      ...      ...      ...   \n",
      "3324      4        0        0        0        0        0        0        0   \n",
      "4487      7        0        0        0        0        0        0        0   \n",
      "4164      1        0        0        0        0        0        0        0   \n",
      "9509      1        0        0        0        0        0        0        0   \n",
      "4967      2        0        0        0        0        0        0        2   \n",
      "\n",
      "      Column8  Column9  ...  Column775  Column776  Column777  Column778  \\\n",
      "2427        0        0  ...          0          0          0          0   \n",
      "9016        0        0  ...          0          0          0         17   \n",
      "9438        0        0  ...         49         34         22          1   \n",
      "7624        0       46  ...         69         55          4          0   \n",
      "837         0        0  ...          0          0          0          0   \n",
      "...       ...      ...  ...        ...        ...        ...        ...   \n",
      "3324        0        0  ...          0          2          0          0   \n",
      "4487        0        0  ...          0          0          0          0   \n",
      "4164        0        0  ...          0          0          0          0   \n",
      "9509        0        0  ...         63          0          0          0   \n",
      "4967        0        0  ...          0          0          0          3   \n",
      "\n",
      "      Column779  Column780  Column781  Column782  Column783  Column784  \n",
      "2427          0          0          0          0          0          0  \n",
      "9016          5          0          5          0          0          0  \n",
      "9438          0          0          0          0          0          0  \n",
      "7624          0          0          0          0          0          0  \n",
      "837           0          0          0          0          0          0  \n",
      "...         ...        ...        ...        ...        ...        ...  \n",
      "3324        114        165         85          0          0          0  \n",
      "4487          0          0          0          0          0          0  \n",
      "4164          0          0          0          0          0          0  \n",
      "9509          0          0          0          0          0          0  \n",
      "4967          3          3          0          0          0          0  \n",
      "\n",
      "[10000 rows x 785 columns]\n",
      "              label       Column1       Column2       Column3       Column4  \\\n",
      "count  10000.000000  10000.000000  10000.000000  10000.000000  10000.000000   \n",
      "mean       4.500000      0.000400      0.010300      0.052100      0.077000   \n",
      "std        2.872425      0.024493      0.525187      2.494315      2.208882   \n",
      "min        0.000000      0.000000      0.000000      0.000000      0.000000   \n",
      "25%        2.000000      0.000000      0.000000      0.000000      0.000000   \n",
      "50%        4.500000      0.000000      0.000000      0.000000      0.000000   \n",
      "75%        7.000000      0.000000      0.000000      0.000000      0.000000   \n",
      "max        9.000000      2.000000     45.000000    218.000000    185.000000   \n",
      "\n",
      "            Column5       Column6       Column7       Column8       Column9  \\\n",
      "count  10000.000000  10000.000000  10000.000000  10000.000000  10000.000000   \n",
      "mean       0.208600      0.349200      0.826700      2.321200      5.457800   \n",
      "std        4.669183      5.657849      8.591731     15.031508     23.359019   \n",
      "min        0.000000      0.000000      0.000000      0.000000      0.000000   \n",
      "25%        0.000000      0.000000      0.000000      0.000000      0.000000   \n",
      "50%        0.000000      0.000000      0.000000      0.000000      0.000000   \n",
      "75%        0.000000      0.000000      0.000000      0.000000      0.000000   \n",
      "max      227.000000    223.000000    247.000000    218.000000    244.000000   \n",
      "\n",
      "       ...     Column775     Column776     Column777     Column778  \\\n",
      "count  ...  10000.000000  10000.000000  10000.000000  10000.000000   \n",
      "mean   ...     34.320800     23.071900     16.432000     17.870600   \n",
      "std    ...     57.888679     49.049749     42.159665     44.140552   \n",
      "min    ...      0.000000      0.000000      0.000000      0.000000   \n",
      "25%    ...      0.000000      0.000000      0.000000      0.000000   \n",
      "50%    ...      0.000000      0.000000      0.000000      0.000000   \n",
      "75%    ...     55.000000      6.000000      0.000000      0.000000   \n",
      "max    ...    254.000000    252.000000    255.000000    255.000000   \n",
      "\n",
      "          Column779     Column780     Column781     Column782     Column783  \\\n",
      "count  10000.000000  10000.000000  10000.000000  10000.000000  10000.000000   \n",
      "mean      22.860000     17.790200      8.353500      2.541600      0.629500   \n",
      "std       51.706601     45.128107     28.765769     16.417363      7.462533   \n",
      "min        0.000000      0.000000      0.000000      0.000000      0.000000   \n",
      "25%        0.000000      0.000000      0.000000      0.000000      0.000000   \n",
      "50%        0.000000      0.000000      0.000000      0.000000      0.000000   \n",
      "75%        1.000000      0.000000      0.000000      0.000000      0.000000   \n",
      "max      255.000000    255.000000    240.000000    225.000000    205.000000   \n",
      "\n",
      "         Column784  \n",
      "count  10000.00000  \n",
      "mean       0.06560  \n",
      "std        1.93403  \n",
      "min        0.00000  \n",
      "25%        0.00000  \n",
      "50%        0.00000  \n",
      "75%        0.00000  \n",
      "max      107.00000  \n",
      "\n",
      "[8 rows x 785 columns]\n"
     ]
    }
   ],
   "source": [
    "df = df.reindex(np.random.permutation(df.index))\t\t\t#Shuffle\n",
    "print (df)\n",
    "print (df.describe())\t\t\t\t\t#Gives statitics of the data"
   ]
  },
  {
   "cell_type": "code",
   "execution_count": 4,
   "metadata": {
    "scrolled": true
   },
   "outputs": [
    {
     "name": "stdout",
     "output_type": "stream",
     "text": [
      "      Column1  Column2  Column3  Column4  Column5  Column6  Column7  Column8  \\\n",
      "2427        0        0        0        0        0        0        0        0   \n",
      "9016        0        0        0        0        0        0        0        0   \n",
      "9438        0        0        0        0        0        0        0        0   \n",
      "7624        0        0        0        0        0        0        0        0   \n",
      "837         0        0        0        0        0        0        0        0   \n",
      "...       ...      ...      ...      ...      ...      ...      ...      ...   \n",
      "3324        0        0        0        0        0        0        0        0   \n",
      "4487        0        0        0        0        0        0        0        0   \n",
      "4164        0        0        0        0        0        0        0        0   \n",
      "9509        0        0        0        0        0        0        0        0   \n",
      "4967        0        0        0        0        0        0        2        0   \n",
      "\n",
      "      Column9  Column10  ...  Column775  Column776  Column777  Column778  \\\n",
      "2427        0         0  ...          0          0          0          0   \n",
      "9016        0         0  ...          0          0          0         17   \n",
      "9438        0         0  ...         49         34         22          1   \n",
      "7624       46        78  ...         69         55          4          0   \n",
      "837         0         0  ...          0          0          0          0   \n",
      "...       ...       ...  ...        ...        ...        ...        ...   \n",
      "3324        0         0  ...          0          2          0          0   \n",
      "4487        0         0  ...          0          0          0          0   \n",
      "4164        0         0  ...          0          0          0          0   \n",
      "9509        0         0  ...         63          0          0          0   \n",
      "4967        0         0  ...          0          0          0          3   \n",
      "\n",
      "      Column779  Column780  Column781  Column782  Column783  Column784  \n",
      "2427          0          0          0          0          0          0  \n",
      "9016          5          0          5          0          0          0  \n",
      "9438          0          0          0          0          0          0  \n",
      "7624          0          0          0          0          0          0  \n",
      "837           0          0          0          0          0          0  \n",
      "...         ...        ...        ...        ...        ...        ...  \n",
      "3324        114        165         85          0          0          0  \n",
      "4487          0          0          0          0          0          0  \n",
      "4164          0          0          0          0          0          0  \n",
      "9509          0          0          0          0          0          0  \n",
      "4967          3          3          0          0          0          0  \n",
      "\n",
      "[10000 rows x 784 columns]\n",
      "2427    7\n",
      "9016    8\n",
      "9438    6\n",
      "7624    3\n",
      "837     7\n",
      "       ..\n",
      "3324    4\n",
      "4487    7\n",
      "4164    1\n",
      "9509    1\n",
      "4967    2\n",
      "Name: label, Length: 10000, dtype: int64\n"
     ]
    }
   ],
   "source": [
    "X = df.loc[:, df.columns != 'label']\n",
    "y_labels = df[\"label\"]\n",
    "print (X)\n",
    "print (y_labels)"
   ]
  },
  {
   "cell_type": "markdown",
   "metadata": {},
   "source": [
    "### Processing Data"
   ]
  },
  {
   "cell_type": "markdown",
   "metadata": {},
   "source": [
    "*Setting data to train the model*"
   ]
  },
  {
   "cell_type": "code",
   "execution_count": 5,
   "metadata": {},
   "outputs": [],
   "source": [
    "X = X.values\n",
    "y_labels = y_labels.values"
   ]
  },
  {
   "cell_type": "markdown",
   "metadata": {},
   "source": [
    "*One Hot Encoding the Output Label*"
   ]
  },
  {
   "cell_type": "code",
   "execution_count": 6,
   "metadata": {},
   "outputs": [
    {
     "name": "stdout",
     "output_type": "stream",
     "text": [
      "No.of Output Classes =  [0 1 2 3 4 5 6 7 8 9]\n"
     ]
    }
   ],
   "source": [
    "lb = preprocessing.LabelBinarizer()\n",
    "lb.fit(y_labels)\n",
    "output_classes = lb.classes_\n",
    "print (\"No.of Output Classes = \",output_classes)\n",
    "y = lb.transform(y_labels)"
   ]
  },
  {
   "cell_type": "markdown",
   "metadata": {},
   "source": [
    "### Visualising Data"
   ]
  },
  {
   "cell_type": "markdown",
   "metadata": {},
   "source": [
    "*Visualising Data using Seaborn Libraries*"
   ]
  },
  {
   "cell_type": "code",
   "execution_count": 7,
   "metadata": {},
   "outputs": [
    {
     "name": "stdout",
     "output_type": "stream",
     "text": [
      "{0: 1000, 1: 1000, 2: 1000, 3: 1000, 4: 1000, 5: 1000, 6: 1000, 7: 1000, 8: 1000, 9: 1000}\n"
     ]
    }
   ],
   "source": [
    "Data_y = {}\n",
    "\n",
    "for i in output_classes:\n",
    "    Data_y[i] = 0\n",
    "for j in y_labels:\n",
    "    Data_y[j] += 1\n",
    "    \n",
    "print (Data_y)"
   ]
  },
  {
   "cell_type": "code",
   "execution_count": 8,
   "metadata": {
    "scrolled": true
   },
   "outputs": [
    {
     "data": {
      "image/png": "[encoded data removed]",
      "text/plain": [
       "<Figure size 432x288 with 1 Axes>"
      ]
     },
     "metadata": {
      "needs_background": "light"
     },
     "output_type": "display_data"
    }
   ],
   "source": [
    "plt_ = sns.barplot(list(Data_y.keys()), list(Data_y.values()))\n",
    "plt_.set_xticklabels(plt_.get_xticklabels(), rotation=90)\n",
    "plt.show()"
   ]
  },
  {
   "cell_type": "markdown",
   "metadata": {},
   "source": [
    "### Splitting the Data for Training and Testing"
   ]
  },
  {
   "cell_type": "markdown",
   "metadata": {},
   "source": [
    "*Splitting Data to Train and Test sets to train and evaluate the Model*"
   ]
  },
  {
   "cell_type": "code",
   "execution_count": 9,
   "metadata": {},
   "outputs": [],
   "source": [
    "X_train, X_test, y_train, y_test = train_test_split(X, y, test_size=0.2, stratify=y)"
   ]
  },
  {
   "cell_type": "code",
   "execution_count": 10,
   "metadata": {
    "scrolled": true
   },
   "outputs": [
    {
     "name": "stdout",
     "output_type": "stream",
     "text": [
      "Shape of Training Set is (8000, 784)\n",
      "Shape of Test Set is (2000, 784)\n",
      "Shape of Training Set is (8000, 10)\n",
      "Shape of Test Set is (2000, 10)\n"
     ]
    }
   ],
   "source": [
    "print (\"Shape of Training Set is\",X_train.shape)\n",
    "print (\"Shape of Test Set is\",X_test.shape)\n",
    "\n",
    "print (\"Shape of Training Set is\",y_train.shape)\n",
    "print (\"Shape of Test Set is\",y_test.shape)"
   ]
  },
  {
   "cell_type": "markdown",
   "metadata": {},
   "source": [
    "## Creating a Model"
   ]
  },
  {
   "cell_type": "markdown",
   "metadata": {},
   "source": [
    "*Creating a Deep Neural Network using Keras*"
   ]
  },
  {
   "cell_type": "code",
   "execution_count": 11,
   "metadata": {},
   "outputs": [
    {
     "name": "stdout",
     "output_type": "stream",
     "text": [
      "WARNING:tensorflow:From /home/krishna/Desktop/Anaconda/anaconda3/lib/python3.7/site-packages/keras/backend/tensorflow_backend.py:95: The name tf.reset_default_graph is deprecated. Please use tf.compat.v1.reset_default_graph instead.\n",
      "\n",
      "WARNING:tensorflow:From /home/krishna/Desktop/Anaconda/anaconda3/lib/python3.7/site-packages/keras/backend/tensorflow_backend.py:98: The name tf.placeholder_with_default is deprecated. Please use tf.compat.v1.placeholder_with_default instead.\n",
      "\n",
      "WARNING:tensorflow:From /home/krishna/Desktop/Anaconda/anaconda3/lib/python3.7/site-packages/keras/backend/tensorflow_backend.py:102: The name tf.get_default_graph is deprecated. Please use tf.compat.v1.get_default_graph instead.\n",
      "\n",
      "WARNING:tensorflow:From /home/krishna/Desktop/Anaconda/anaconda3/lib/python3.7/site-packages/keras/backend/tensorflow_backend.py:517: The name tf.placeholder is deprecated. Please use tf.compat.v1.placeholder instead.\n",
      "\n",
      "WARNING:tensorflow:From /home/krishna/Desktop/Anaconda/anaconda3/lib/python3.7/site-packages/keras/backend/tensorflow_backend.py:4138: The name tf.random_uniform is deprecated. Please use tf.random.uniform instead.\n",
      "\n"
     ]
    }
   ],
   "source": [
    "keras.backend.clear_session()\n",
    "model = Sequential()\n",
    "model.add(Dense(512, input_dim=784, activation='sigmoid'))\n",
    "model.add(Dense(128, activation='sigmoid'))\n",
    "model.add(Dense(128, activation='sigmoid'))\n",
    "model.add(Dense(10, activation='softmax'))"
   ]
  },
  {
   "cell_type": "code",
   "execution_count": 12,
   "metadata": {},
   "outputs": [
    {
     "name": "stdout",
     "output_type": "stream",
     "text": [
      "_________________________________________________________________\n",
      "Layer (type)                 Output Shape              Param #   \n",
      "=================================================================\n",
      "dense_1 (Dense)              (None, 512)               401920    \n",
      "_________________________________________________________________\n",
      "dense_2 (Dense)              (None, 128)               65664     \n",
      "_________________________________________________________________\n",
      "dense_3 (Dense)              (None, 128)               16512     \n",
      "_________________________________________________________________\n",
      "dense_4 (Dense)              (None, 10)                1290      \n",
      "=================================================================\n",
      "Total params: 485,386\n",
      "Trainable params: 485,386\n",
      "Non-trainable params: 0\n",
      "_________________________________________________________________\n"
     ]
    }
   ],
   "source": [
    "model.summary()"
   ]
  },
  {
   "cell_type": "code",
   "execution_count": 13,
   "metadata": {
    "scrolled": true
   },
   "outputs": [
    {
     "name": "stdout",
     "output_type": "stream",
     "text": [
      "WARNING:tensorflow:From /home/krishna/Desktop/Anaconda/anaconda3/lib/python3.7/site-packages/keras/optimizers.py:790: The name tf.train.Optimizer is deprecated. Please use tf.compat.v1.train.Optimizer instead.\n",
      "\n",
      "WARNING:tensorflow:From /home/krishna/Desktop/Anaconda/anaconda3/lib/python3.7/site-packages/keras/backend/tensorflow_backend.py:3295: The name tf.log is deprecated. Please use tf.math.log instead.\n",
      "\n"
     ]
    }
   ],
   "source": [
    "model.compile(loss='categorical_crossentropy', optimizer='adam', metrics=['accuracy'])\n"
   ]
  },
  {
   "cell_type": "code",
   "execution_count": 14,
   "metadata": {
    "scrolled": true
   },
   "outputs": [
    {
     "name": "stdout",
     "output_type": "stream",
     "text": [
      "WARNING:tensorflow:From /home/krishna/Desktop/Anaconda/anaconda3/lib/python3.7/site-packages/tensorflow_core/python/ops/math_grad.py:1424: where (from tensorflow.python.ops.array_ops) is deprecated and will be removed in a future version.\n",
      "Instructions for updating:\n",
      "Use tf.where in 2.0, which has the same broadcast rule as np.where\n",
      "WARNING:tensorflow:From /home/krishna/Desktop/Anaconda/anaconda3/lib/python3.7/site-packages/keras/backend/tensorflow_backend.py:986: The name tf.assign_add is deprecated. Please use tf.compat.v1.assign_add instead.\n",
      "\n",
      "WARNING:tensorflow:From /home/krishna/Desktop/Anaconda/anaconda3/lib/python3.7/site-packages/keras/backend/tensorflow_backend.py:973: The name tf.assign is deprecated. Please use tf.compat.v1.assign instead.\n",
      "\n",
      "WARNING:tensorflow:From /home/krishna/Desktop/Anaconda/anaconda3/lib/python3.7/site-packages/keras/backend/tensorflow_backend.py:2741: The name tf.Session is deprecated. Please use tf.compat.v1.Session instead.\n",
      "\n",
      "Train on 8000 samples, validate on 2000 samples\n",
      "Epoch 1/50\n",
      "WARNING:tensorflow:From /home/krishna/Desktop/Anaconda/anaconda3/lib/python3.7/site-packages/keras/backend/tensorflow_backend.py:174: The name tf.get_default_session is deprecated. Please use tf.compat.v1.get_default_session instead.\n",
      "\n",
      "WARNING:tensorflow:From /home/krishna/Desktop/Anaconda/anaconda3/lib/python3.7/site-packages/keras/backend/tensorflow_backend.py:181: The name tf.ConfigProto is deprecated. Please use tf.compat.v1.ConfigProto instead.\n",
      "\n",
      "WARNING:tensorflow:From /home/krishna/Desktop/Anaconda/anaconda3/lib/python3.7/site-packages/keras/backend/tensorflow_backend.py:190: The name tf.global_variables is deprecated. Please use tf.compat.v1.global_variables instead.\n",
      "\n",
      "WARNING:tensorflow:From /home/krishna/Desktop/Anaconda/anaconda3/lib/python3.7/site-packages/keras/backend/tensorflow_backend.py:199: The name tf.is_variable_initialized is deprecated. Please use tf.compat.v1.is_variable_initialized instead.\n",
      "\n",
      "WARNING:tensorflow:From /home/krishna/Desktop/Anaconda/anaconda3/lib/python3.7/site-packages/keras/backend/tensorflow_backend.py:206: The name tf.variables_initializer is deprecated. Please use tf.compat.v1.variables_initializer instead.\n",
      "\n",
      "8000/8000 [==============================] - 4s 521us/step - loss: 2.3744 - acc: 0.2124 - val_loss: 2.1877 - val_acc: 0.3100\n",
      "Epoch 2/50\n",
      "8000/8000 [==============================] - 0s 47us/step - loss: 2.1419 - acc: 0.3333 - val_loss: 2.0710 - val_acc: 0.4410\n",
      "Epoch 3/50\n",
      "8000/8000 [==============================] - 0s 45us/step - loss: 2.0154 - acc: 0.4886 - val_loss: 1.9258 - val_acc: 0.5535\n",
      "Epoch 4/50\n",
      "8000/8000 [==============================] - 0s 45us/step - loss: 1.8736 - acc: 0.5801 - val_loss: 1.7827 - val_acc: 0.5450\n",
      "Epoch 5/50\n",
      "8000/8000 [==============================] - 0s 45us/step - loss: 1.7372 - acc: 0.5207 - val_loss: 1.6520 - val_acc: 0.5295\n",
      "Epoch 6/50\n",
      "8000/8000 [==============================] - 0s 45us/step - loss: 1.6081 - acc: 0.5349 - val_loss: 1.5283 - val_acc: 0.5635\n",
      "Epoch 7/50\n",
      "8000/8000 [==============================] - 0s 46us/step - loss: 1.4873 - acc: 0.5731 - val_loss: 1.4174 - val_acc: 0.6050\n",
      "Epoch 8/50\n",
      "8000/8000 [==============================] - 0s 45us/step - loss: 1.3772 - acc: 0.6381 - val_loss: 1.3170 - val_acc: 0.6740\n",
      "Epoch 9/50\n",
      "8000/8000 [==============================] - 0s 46us/step - loss: 1.2793 - acc: 0.6896 - val_loss: 1.2275 - val_acc: 0.6945\n",
      "Epoch 10/50\n",
      "8000/8000 [==============================] - 0s 46us/step - loss: 1.1914 - acc: 0.6975 - val_loss: 1.1468 - val_acc: 0.7095\n",
      "Epoch 11/50\n",
      "8000/8000 [==============================] - 0s 47us/step - loss: 1.1115 - acc: 0.7111 - val_loss: 1.0745 - val_acc: 0.7200\n",
      "Epoch 12/50\n",
      "8000/8000 [==============================] - 0s 47us/step - loss: 1.0398 - acc: 0.7301 - val_loss: 1.0085 - val_acc: 0.7365\n",
      "Epoch 13/50\n",
      "8000/8000 [==============================] - 0s 45us/step - loss: 0.9767 - acc: 0.7425 - val_loss: 0.9533 - val_acc: 0.7430\n",
      "Epoch 14/50\n",
      "8000/8000 [==============================] - 0s 46us/step - loss: 0.9202 - acc: 0.7464 - val_loss: 0.9017 - val_acc: 0.7525\n",
      "Epoch 15/50\n",
      "8000/8000 [==============================] - 0s 46us/step - loss: 0.8697 - acc: 0.7571 - val_loss: 0.8605 - val_acc: 0.7545\n",
      "Epoch 16/50\n",
      "8000/8000 [==============================] - 0s 47us/step - loss: 0.8255 - acc: 0.7671 - val_loss: 0.8207 - val_acc: 0.7600\n",
      "Epoch 17/50\n",
      "8000/8000 [==============================] - 0s 46us/step - loss: 0.7870 - acc: 0.7729 - val_loss: 0.7829 - val_acc: 0.7695\n",
      "Epoch 18/50\n",
      "8000/8000 [==============================] - 0s 48us/step - loss: 0.7511 - acc: 0.7785 - val_loss: 0.7504 - val_acc: 0.7740\n",
      "Epoch 19/50\n",
      "8000/8000 [==============================] - 0s 48us/step - loss: 0.7170 - acc: 0.7865 - val_loss: 0.7229 - val_acc: 0.7860\n",
      "Epoch 20/50\n",
      "8000/8000 [==============================] - 0s 56us/step - loss: 0.6897 - acc: 0.7935 - val_loss: 0.6965 - val_acc: 0.7880\n",
      "Epoch 21/50\n",
      "8000/8000 [==============================] - 0s 48us/step - loss: 0.6603 - acc: 0.8017 - val_loss: 0.6787 - val_acc: 0.7925\n",
      "Epoch 22/50\n",
      "8000/8000 [==============================] - 0s 58us/step - loss: 0.6405 - acc: 0.8074 - val_loss: 0.6563 - val_acc: 0.7990\n",
      "Epoch 23/50\n",
      "8000/8000 [==============================] - 0s 47us/step - loss: 0.6206 - acc: 0.8120 - val_loss: 0.6375 - val_acc: 0.8045\n",
      "Epoch 24/50\n",
      "8000/8000 [==============================] - 0s 48us/step - loss: 0.6003 - acc: 0.8191 - val_loss: 0.6232 - val_acc: 0.8020\n",
      "Epoch 25/50\n",
      "8000/8000 [==============================] - 0s 48us/step - loss: 0.5811 - acc: 0.8266 - val_loss: 0.6027 - val_acc: 0.8155\n",
      "Epoch 26/50\n",
      "8000/8000 [==============================] - 0s 49us/step - loss: 0.5626 - acc: 0.8278 - val_loss: 0.5922 - val_acc: 0.8210\n",
      "Epoch 27/50\n",
      "8000/8000 [==============================] - 0s 51us/step - loss: 0.5477 - acc: 0.8350 - val_loss: 0.5799 - val_acc: 0.8170\n",
      "Epoch 28/50\n",
      "8000/8000 [==============================] - 0s 57us/step - loss: 0.5339 - acc: 0.8328 - val_loss: 0.5720 - val_acc: 0.8170\n",
      "Epoch 29/50\n",
      "8000/8000 [==============================] - 0s 62us/step - loss: 0.5201 - acc: 0.8400 - val_loss: 0.5570 - val_acc: 0.8235\n",
      "Epoch 30/50\n",
      "8000/8000 [==============================] - 1s 65us/step - loss: 0.5099 - acc: 0.8419 - val_loss: 0.5527 - val_acc: 0.8250\n",
      "Epoch 31/50\n",
      "8000/8000 [==============================] - 0s 48us/step - loss: 0.5035 - acc: 0.8439 - val_loss: 0.5455 - val_acc: 0.8275\n",
      "Epoch 32/50\n",
      "8000/8000 [==============================] - 0s 50us/step - loss: 0.4946 - acc: 0.8451 - val_loss: 0.5399 - val_acc: 0.8295\n",
      "Epoch 33/50\n",
      "8000/8000 [==============================] - 0s 49us/step - loss: 0.4861 - acc: 0.8475 - val_loss: 0.5354 - val_acc: 0.8220\n",
      "Epoch 34/50\n",
      "8000/8000 [==============================] - 0s 47us/step - loss: 0.4778 - acc: 0.8460 - val_loss: 0.5297 - val_acc: 0.8305\n",
      "Epoch 35/50\n",
      "8000/8000 [==============================] - 0s 45us/step - loss: 0.4794 - acc: 0.8470 - val_loss: 0.5261 - val_acc: 0.8310\n",
      "Epoch 36/50\n",
      "8000/8000 [==============================] - 0s 48us/step - loss: 0.4668 - acc: 0.8506 - val_loss: 0.5231 - val_acc: 0.8315\n",
      "Epoch 37/50\n",
      "8000/8000 [==============================] - 0s 45us/step - loss: 0.4628 - acc: 0.8510 - val_loss: 0.5139 - val_acc: 0.8340\n",
      "Epoch 38/50\n",
      "8000/8000 [==============================] - 0s 45us/step - loss: 0.4545 - acc: 0.8560 - val_loss: 0.5114 - val_acc: 0.8330\n",
      "Epoch 39/50\n",
      "8000/8000 [==============================] - 0s 45us/step - loss: 0.4519 - acc: 0.8528 - val_loss: 0.5179 - val_acc: 0.8195\n",
      "Epoch 40/50\n",
      "8000/8000 [==============================] - 0s 44us/step - loss: 0.4439 - acc: 0.8565 - val_loss: 0.5041 - val_acc: 0.8325\n",
      "Epoch 41/50\n",
      "8000/8000 [==============================] - 0s 43us/step - loss: 0.4392 - acc: 0.8556 - val_loss: 0.4999 - val_acc: 0.8340\n",
      "Epoch 42/50\n",
      "8000/8000 [==============================] - 0s 43us/step - loss: 0.4338 - acc: 0.8564 - val_loss: 0.4857 - val_acc: 0.8430\n",
      "Epoch 43/50\n",
      "8000/8000 [==============================] - 0s 42us/step - loss: 0.4214 - acc: 0.8623 - val_loss: 0.4929 - val_acc: 0.8350\n",
      "Epoch 44/50\n",
      "8000/8000 [==============================] - 0s 44us/step - loss: 0.4223 - acc: 0.8600 - val_loss: 0.4873 - val_acc: 0.8360\n",
      "Epoch 45/50\n"
     ]
    },
    {
     "name": "stdout",
     "output_type": "stream",
     "text": [
      "8000/8000 [==============================] - 0s 46us/step - loss: 0.4232 - acc: 0.8599 - val_loss: 0.4899 - val_acc: 0.8375\n",
      "Epoch 46/50\n",
      "8000/8000 [==============================] - 0s 44us/step - loss: 0.4233 - acc: 0.8634 - val_loss: 0.5010 - val_acc: 0.8245\n",
      "Epoch 47/50\n",
      "8000/8000 [==============================] - 0s 45us/step - loss: 0.4232 - acc: 0.8593 - val_loss: 0.4948 - val_acc: 0.8305\n",
      "Epoch 48/50\n",
      "8000/8000 [==============================] - 0s 46us/step - loss: 0.4186 - acc: 0.8613 - val_loss: 0.4871 - val_acc: 0.8355\n",
      "Epoch 49/50\n",
      "8000/8000 [==============================] - 0s 48us/step - loss: 0.4132 - acc: 0.8641 - val_loss: 0.4819 - val_acc: 0.8310\n",
      "Epoch 50/50\n",
      "8000/8000 [==============================] - 0s 53us/step - loss: 0.4136 - acc: 0.8645 - val_loss: 0.4888 - val_acc: 0.8310\n",
      "Total Time taken = 24.134924173355103\n"
     ]
    },
    {
     "data": {
      "image/png": "[encoded data removed]",
      "text/plain": [
       "<Figure size 432x288 with 1 Axes>"
      ]
     },
     "metadata": {
      "needs_background": "light"
     },
     "output_type": "display_data"
    }
   ],
   "source": [
    "start = time.time()\n",
    "history = model.fit(X, y, epochs=50, validation_split = 0.2, batch_size = 2048)\n",
    "end = time.time()\n",
    "print (\"Total Time taken =\",end-start)\n",
    "history_dict = history.history\n",
    "val_acc = list(history_dict['val_acc'])\n",
    "\n",
    "plt.plot(val_acc)\n",
    "plt.show()\n"
   ]
  }
 ],
 "metadata": {
  "kernelspec": {
   "display_name": "Python 3",
   "language": "python",
   "name": "python3"
  },
  "language_info": {
   "codemirror_mode": {
    "name": "ipython",
    "version": 3
   },
   "file_extension": ".py",
   "mimetype": "text/x-python",
   "name": "python",
   "nbconvert_exporter": "python",
   "pygments_lexer": "ipython3",
   "version": "3.7.4"
  }
 },
 "nbformat": 4,
 "nbformat_minor": 2
}
